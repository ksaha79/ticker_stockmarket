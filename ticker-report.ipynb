{
 "cells": [
  {
   "cell_type": "code",
   "execution_count": 3,
   "id": "f40b16c0",
   "metadata": {},
   "outputs": [],
   "source": [
    "from datetime import date, timedelta\n",
    "import yfinance as yf\n",
    "import mercury as mr\n",
    "import pandas as pd\n",
    "import mplfinance as mpf"
   ]
  },
  {
   "cell_type": "code",
   "execution_count": 4,
   "id": "6ef35b5f",
   "metadata": {},
   "outputs": [
    {
     "data": {
      "application/mercury+json": "{\n    \"widget\": \"App\",\n    \"title\": \"Ticker Report\",\n    \"description\": \"Report financial data for selected ticker\",\n    \"show_code\": false,\n    \"show_prompt\": false,\n    \"output\": \"app\",\n    \"schedule\": \"\",\n    \"notify\": \"{}\",\n    \"continuous_update\": true,\n    \"static_notebook\": false,\n    \"show_sidebar\": true,\n    \"full_screen\": true,\n    \"allow_download\": true,\n    \"stop_on_error\": false,\n    \"model_id\": \"mercury-app\",\n    \"code_uid\": \"App.0.40.25.1-rand8403ae9f\"\n}",
      "text/html": [
       "<h3>Mercury Application</h3><small>This output won't appear in the web app.</small>"
      ],
      "text/plain": [
       "mercury.App"
      ]
     },
     "metadata": {},
     "output_type": "display_data"
    }
   ],
   "source": [
    "app = mr.App(title=\"Ticker Report\", description=\"Report financial data for selected ticker\")"
   ]
  },
  {
   "cell_type": "code",
   "execution_count": 33,
   "id": "8be2ae07",
   "metadata": {},
   "outputs": [
    {
     "data": {
      "application/mercury+json": "{\n    \"widget\": \"Text\",\n    \"value\": \"META\",\n    \"rows\": 1,\n    \"label\": \"Ticker\",\n    \"model_id\": \"a5a58e86a09d456b893f2ccd7702026a\",\n    \"code_uid\": \"Text.0.40.15.1-randbedb008d\",\n    \"url_key\": \"\",\n    \"disabled\": false,\n    \"hidden\": false\n}",
      "application/vnd.jupyter.widget-view+json": {
       "model_id": "a5a58e86a09d456b893f2ccd7702026a",
       "version_major": 2,
       "version_minor": 0
      },
      "text/plain": [
       "mercury.Text"
      ]
     },
     "metadata": {},
     "output_type": "display_data"
    }
   ],
   "source": [
    "ticker = mr.Text(label=\"Ticker\", value=\"META\")"
   ]
  },
  {
   "cell_type": "code",
   "execution_count": 34,
   "id": "943392a4",
   "metadata": {},
   "outputs": [
    {
     "data": {
      "application/mercury+json": "{\n    \"widget\": \"Slider\",\n    \"value\": 52,\n    \"min\": 4,\n    \"max\": 260,\n    \"step\": 1,\n    \"label\": \"Weeks\",\n    \"model_id\": \"c1f0b4919aa64e7881436efc45f066c2\",\n    \"code_uid\": \"Slider.0.40.36.1-rand8e2809c6\",\n    \"url_key\": \"\",\n    \"disabled\": false,\n    \"hidden\": false\n}",
      "application/vnd.jupyter.widget-view+json": {
       "model_id": "c1f0b4919aa64e7881436efc45f066c2",
       "version_major": 2,
       "version_minor": 0
      },
      "text/plain": [
       "mercury.Slider"
      ]
     },
     "metadata": {},
     "output_type": "display_data"
    }
   ],
   "source": [
    "weeks = mr.Slider(label=\"Weeks\", value=52, min=4, max=260)"
   ]
  },
  {
   "cell_type": "code",
   "execution_count": 35,
   "id": "2a2972d6",
   "metadata": {},
   "outputs": [],
   "source": [
    "start = date.today() - timedelta(weeks.value*7)\n",
    "end = date.today() + timedelta(2)\n",
    "df = pd.DataFrame(yf.download(ticker.value, start=start, end=end, progress=False))"
   ]
  },
  {
   "cell_type": "code",
   "execution_count": 36,
   "id": "791e456b",
   "metadata": {},
   "outputs": [
    {
     "data": {
      "text/plain": [
       "343"
      ]
     },
     "execution_count": 36,
     "metadata": {},
     "output_type": "execute_result"
    }
   ],
   "source": [
    "round(df.High.max())"
   ]
  },
  {
   "cell_type": "code",
   "execution_count": 38,
   "id": "9730add4",
   "metadata": {},
   "outputs": [
    {
     "data": {
      "text/html": [
       "<style scoped>\n",
       "        .numberbox-container {\n",
       "        width: 100%;\n",
       "        display: flex;\n",
       "        flex-direction: row;\n",
       "        }\n",
       "        @media (max-width: 800px) {\n",
       "        .numberbox-container {\n",
       "            flex-direction: column;\n",
       "        }\n",
       "        }\n",
       "        </style><div class=\"numberbox-container\" style=\"display: flex; background: #fff;\">\n",
       "<div style=\"text-align: center; width: 100%; border: 1px solid lightgray; margin-right: 15px; margin-top: 15px; padding-top: 40px; padding-bottom: 30px; background: white; border-radius:5px\">\n",
       "  <span style=\"font-size: 4em; color: black; font-family: monospace; \">META</span>\n",
       "  \n",
       "  \n",
       "</div>\n",
       "  \n",
       "<div style=\"text-align: center; width: 100%; border: 1px solid lightgray; margin-right: 15px; margin-top: 15px; padding-top: 40px; padding-bottom: 30px; background: white; border-radius:5px\">\n",
       "  <span style=\"font-size: 4em; color: black; font-family: monospace; \">343</span>\n",
       "  \n",
       "  <span style=\"font-size: 2em; color: gray; display: block; padding-top: 20px; font-family: monospace; line-height: 1.3em;\">52-Week High</span>\n",
       "</div>\n",
       "  \n",
       "<div style=\"text-align: center; width: 100%; border: 1px solid lightgray; margin-right: 0px; margin-top: 15px; padding-top: 40px; padding-bottom: 30px; background: white; border-radius:5px\">\n",
       "  <span style=\"font-size: 4em; color: black; font-family: monospace; \">108</span>\n",
       "  \n",
       "  <span style=\"font-size: 2em; color: gray; display: block; padding-top: 20px; font-family: monospace; line-height: 1.3em;\">52-Week Low</span>\n",
       "</div>\n",
       "  </div>"
      ],
      "text/plain": [
       "<widgets.numberbox.NumberBox at 0x7f4e675e97f0>"
      ]
     },
     "execution_count": 38,
     "metadata": {},
     "output_type": "execute_result"
    }
   ],
   "source": [
    "#mr.NumberBox([\n",
    "#    mr.NumberBox(data=ticker.value),\n",
    "#    mr.NumberBox(data=df.High.max().round(1), title=f\"{weeks.value}-Week High\"),\n",
    "#    mr.NumberBox(data=df.Low.min().round(1), title=f\"{weeks.value}-Week Low\")\n",
    "#])\n",
    "mr.NumberBox([\n",
    "    mr.NumberBox(data=ticker.value),\n",
    "    mr.NumberBox(data=round(df.High.max()), title=f\"{weeks.value}-Week High\"),\n",
    "    mr.NumberBox(data=round(df.Low.min()), title=f\"{weeks.value}-Week Low\")\n",
    "])                 "
   ]
  },
  {
   "cell_type": "code",
   "execution_count": 55,
   "id": "d2298ee5",
   "metadata": {},
   "outputs": [
    {
     "data": {
      "image/png": "[encoded data removed]",
      "text/plain": [
       "<Figure size 1035x575 with 4 Axes>"
      ]
     },
     "metadata": {},
     "output_type": "display_data"
    }
   ],
   "source": [
    "plot_type = \"candle\" if weeks.value < 53 else \"line\"\n",
    "mpf.plot(df, type=plot_type, figratio=(18,10), volume=True)"
   ]
  },
  {
   "cell_type": "code",
   "execution_count": 54,
   "id": "8ea8348e",
   "metadata": {},
   "outputs": [
    {
     "data": {
      "text/html": [
       "<div>\n",
       "<style scoped>\n",
       "    .dataframe tbody tr th:only-of-type {\n",
       "        vertical-align: middle;\n",
       "    }\n",
       "\n",
       "    .dataframe tbody tr th {\n",
       "        vertical-align: top;\n",
       "    }\n",
       "\n",
       "    .dataframe thead th {\n",
       "        text-align: right;\n",
       "    }\n",
       "</style>\n",
       "<table border=\"1\" class=\"dataframe\">\n",
       "  <thead>\n",
       "    <tr style=\"text-align: right;\">\n",
       "      <th></th>\n",
       "      <th>Open</th>\n",
       "      <th>High</th>\n",
       "      <th>Low</th>\n",
       "      <th>Close</th>\n",
       "      <th>Adj Close</th>\n",
       "      <th>Volume</th>\n",
       "    </tr>\n",
       "    <tr>\n",
       "      <th>Date</th>\n",
       "      <th></th>\n",
       "      <th></th>\n",
       "      <th></th>\n",
       "      <th></th>\n",
       "      <th></th>\n",
       "      <th></th>\n",
       "    </tr>\n",
       "  </thead>\n",
       "  <tbody>\n",
       "    <tr>\n",
       "      <th>2023-11-09</th>\n",
       "      <td>319.420013</td>\n",
       "      <td>324.179993</td>\n",
       "      <td>318.799988</td>\n",
       "      <td>320.549988</td>\n",
       "      <td>320.549988</td>\n",
       "      <td>16103100</td>\n",
       "    </tr>\n",
       "    <tr>\n",
       "      <th>2023-11-10</th>\n",
       "      <td>319.940002</td>\n",
       "      <td>329.100006</td>\n",
       "      <td>319.459991</td>\n",
       "      <td>328.769989</td>\n",
       "      <td>328.769989</td>\n",
       "      <td>19096200</td>\n",
       "    </tr>\n",
       "    <tr>\n",
       "      <th>2023-11-13</th>\n",
       "      <td>326.200012</td>\n",
       "      <td>332.329987</td>\n",
       "      <td>325.700012</td>\n",
       "      <td>329.190002</td>\n",
       "      <td>329.190002</td>\n",
       "      <td>16908900</td>\n",
       "    </tr>\n",
       "    <tr>\n",
       "      <th>2023-11-14</th>\n",
       "      <td>334.540009</td>\n",
       "      <td>338.100006</td>\n",
       "      <td>333.329987</td>\n",
       "      <td>336.309998</td>\n",
       "      <td>336.309998</td>\n",
       "      <td>17179400</td>\n",
       "    </tr>\n",
       "    <tr>\n",
       "      <th>2023-11-15</th>\n",
       "      <td>337.929993</td>\n",
       "      <td>338.399994</td>\n",
       "      <td>330.019989</td>\n",
       "      <td>332.709991</td>\n",
       "      <td>332.709991</td>\n",
       "      <td>14531200</td>\n",
       "    </tr>\n",
       "    <tr>\n",
       "      <th>2023-11-16</th>\n",
       "      <td>329.369995</td>\n",
       "      <td>334.579987</td>\n",
       "      <td>326.380005</td>\n",
       "      <td>334.190002</td>\n",
       "      <td>334.190002</td>\n",
       "      <td>18932600</td>\n",
       "    </tr>\n",
       "    <tr>\n",
       "      <th>2023-11-17</th>\n",
       "      <td>330.260010</td>\n",
       "      <td>335.500000</td>\n",
       "      <td>329.350006</td>\n",
       "      <td>335.040009</td>\n",
       "      <td>335.040009</td>\n",
       "      <td>14494400</td>\n",
       "    </tr>\n",
       "    <tr>\n",
       "      <th>2023-11-20</th>\n",
       "      <td>334.890015</td>\n",
       "      <td>341.869995</td>\n",
       "      <td>334.190002</td>\n",
       "      <td>339.970001</td>\n",
       "      <td>339.970001</td>\n",
       "      <td>16960500</td>\n",
       "    </tr>\n",
       "    <tr>\n",
       "      <th>2023-11-21</th>\n",
       "      <td>338.329987</td>\n",
       "      <td>339.899994</td>\n",
       "      <td>335.899994</td>\n",
       "      <td>336.980011</td>\n",
       "      <td>336.980011</td>\n",
       "      <td>12027900</td>\n",
       "    </tr>\n",
       "    <tr>\n",
       "      <th>2023-11-22</th>\n",
       "      <td>339.209991</td>\n",
       "      <td>342.920013</td>\n",
       "      <td>338.579987</td>\n",
       "      <td>341.489990</td>\n",
       "      <td>341.489990</td>\n",
       "      <td>10702700</td>\n",
       "    </tr>\n",
       "  </tbody>\n",
       "</table>\n",
       "</div>"
      ],
      "text/plain": [
       "                  Open        High         Low       Close   Adj Close  \\\n",
       "Date                                                                     \n",
       "2023-11-09  319.420013  324.179993  318.799988  320.549988  320.549988   \n",
       "2023-11-10  319.940002  329.100006  319.459991  328.769989  328.769989   \n",
       "2023-11-13  326.200012  332.329987  325.700012  329.190002  329.190002   \n",
       "2023-11-14  334.540009  338.100006  333.329987  336.309998  336.309998   \n",
       "2023-11-15  337.929993  338.399994  330.019989  332.709991  332.709991   \n",
       "2023-11-16  329.369995  334.579987  326.380005  334.190002  334.190002   \n",
       "2023-11-17  330.260010  335.500000  329.350006  335.040009  335.040009   \n",
       "2023-11-20  334.890015  341.869995  334.190002  339.970001  339.970001   \n",
       "2023-11-21  338.329987  339.899994  335.899994  336.980011  336.980011   \n",
       "2023-11-22  339.209991  342.920013  338.579987  341.489990  341.489990   \n",
       "\n",
       "              Volume  \n",
       "Date                  \n",
       "2023-11-09  16103100  \n",
       "2023-11-10  19096200  \n",
       "2023-11-13  16908900  \n",
       "2023-11-14  17179400  \n",
       "2023-11-15  14531200  \n",
       "2023-11-16  18932600  \n",
       "2023-11-17  14494400  \n",
       "2023-11-20  16960500  \n",
       "2023-11-21  12027900  \n",
       "2023-11-22  10702700  "
      ]
     },
     "execution_count": 54,
     "metadata": {},
     "output_type": "execute_result"
    }
   ],
   "source": [
    "df.head\n",
    "df.tail(10)"
   ]
  },
  {
   "cell_type": "code",
   "execution_count": null,
   "id": "f5a357a0",
   "metadata": {},
   "outputs": [],
   "source": []
  },
  {
   "cell_type": "code",
   "execution_count": null,
   "id": "11451ebf",
   "metadata": {},
   "outputs": [],
   "source": []
  },
  {
   "cell_type": "code",
   "execution_count": null,
   "id": "85ecc8c5",
   "metadata": {},
   "outputs": [],
   "source": []
  }
 ],
 "metadata": {
  "kernelspec": {
   "display_name": "Python 3 (ipykernel)",
   "language": "python",
   "name": "python3"
  },
  "language_info": {
   "codemirror_mode": {
    "name": "ipython",
    "version": 3
   },
   "file_extension": ".py",
   "mimetype": "text/x-python",
   "name": "python",
   "nbconvert_exporter": "python",
   "pygments_lexer": "ipython3",
   "version": "3.9.12"
  }
 },
 "nbformat": 4,
 "nbformat_minor": 5
}
